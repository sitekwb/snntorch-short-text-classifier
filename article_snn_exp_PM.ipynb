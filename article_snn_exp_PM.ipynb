{
 "cells": [
  {
   "cell_type": "code",
   "execution_count": 1,
   "outputs": [],
   "source": [
    "from typing import Optional\n",
    "import pytorch_lightning as pl\n",
    "import torch\n",
    "from torch.utils.data import DataLoader, Dataset\n",
    "import torch.nn.functional as F\n",
    "\n",
    "\n",
    "class MyDataset(Dataset):\n",
    "    def __init__(self, data, classes):\n",
    "        super().__init__()\n",
    "        self.data = torch.tensor(data, dtype=torch.float)\n",
    "        self.classes = torch.tensor(classes, dtype=torch.long)\n",
    "\n",
    "    def __getitem__(self, i):\n",
    "        return self.data[i], self.classes[i]\n",
    "\n",
    "    def __len__(self):\n",
    "        return len(self.data)\n",
    "\n",
    "\n",
    "class MyDataModule(pl.LightningDataModule):\n",
    "    def __init__(self, train_path: str, train_classes_path: str, test_path: str, test_classes_path: str,\n",
    "                 batch_size: int = 1):\n",
    "        super().__init__()\n",
    "        self.train_path = train_path\n",
    "        self.train_classes_path = train_classes_path\n",
    "        self.test_path = test_path\n",
    "        self.test_classes_path = test_classes_path\n",
    "\n",
    "        self.train_data = None\n",
    "        self.test_data = None\n",
    "        self.train_dataset = None\n",
    "        self.test_dataset = None\n",
    "        self.train_classes = None\n",
    "        self.test_classes = None\n",
    "        self.sep = ';'\n",
    "        self.num_classes = None\n",
    "        self.batch_size = batch_size\n",
    "        self.vector_len = None\n",
    "\n",
    "        self.prepare_data()\n",
    "\n",
    "    @staticmethod\n",
    "    def pad(text_tensor, total):\n",
    "        n = total - len(text_tensor)\n",
    "        return F.pad(text_tensor, (0, n))\n",
    "\n",
    "    def prepare_data(self):\n",
    "        self.download_dataset()\n",
    "        self.num_classes = len(set(self.train_classes))\n",
    "\n",
    "    def download_dataset(self):\n",
    "        with open(self.train_path) as f:\n",
    "            self.train_data = [[float(_) for _ in line.split(self.sep)] for line in f]\n",
    "        with open(self.test_path) as f:\n",
    "            self.test_data = [[float(_) for _ in line.split(self.sep)] for line in f]\n",
    "        with open(self.train_classes_path) as f:\n",
    "            self.train_classes = [int(line) - 1 for line in f]\n",
    "        with open(self.test_classes_path) as f:\n",
    "            self.test_classes = [int(line) - 1 for line in f]\n",
    "\n",
    "    def setup(self, stage: Optional[str] = None):\n",
    "        self.vector_len = self.count_vector_len()\n",
    "        self.train_data = [i + [0] * (self.vector_len - len(i)) for i in self.train_data]\n",
    "        self.test_data = [i + [0] * (self.vector_len - len(i)) for i in list(map(lambda vector: vector[:self.vector_len], self.test_data))]\n",
    "        self.train_dataset = MyDataset(data=self.train_data, classes=self.train_classes)\n",
    "        self.test_dataset = MyDataset(data=self.test_data, classes=self.test_classes)\n",
    "\n",
    "    def count_vector_len(self):\n",
    "        max_len = 0\n",
    "        for vector in self.train_data:\n",
    "            max_len = max(max_len, len(vector))\n",
    "        return max_len\n",
    "\n",
    "    def train_dataloader(self):\n",
    "        return DataLoader(self.train_dataset, batch_size=self.batch_size)\n",
    "\n",
    "    def test_dataloader(self):\n",
    "        return DataLoader(self.test_dataset, batch_size=self.batch_size)\n",
    "\n",
    "    @property\n",
    "    def num_inputs(self):\n",
    "        if not self.vector_len:\n",
    "            self.vector_len = self.count_vector_len()\n",
    "        return self.vector_len\n",
    "\n",
    "    @property\n",
    "    def num_outputs(self):\n",
    "        return self.num_classes"
   ],
   "metadata": {
    "collapsed": false,
    "pycharm": {
     "name": "#%%\n"
    }
   }
  },
  {
   "cell_type": "markdown",
   "source": [
    "## Training SNN\n",
    "- one LIF layer\n",
    "- beta (decay rate) = 0.92\n",
    "- spike threshold = 1\n",
    "- potential subtract after spike emission"
   ],
   "metadata": {
    "collapsed": false
   }
  },
  {
   "cell_type": "code",
   "execution_count": 2,
   "outputs": [
    {
     "ename": "ModuleNotFoundError",
     "evalue": "No module named 'torch'",
     "output_type": "error",
     "traceback": [
      "\u001B[0;31m---------------------------------------------------------------------------\u001B[0m",
      "\u001B[0;31mModuleNotFoundError\u001B[0m                       Traceback (most recent call last)",
      "\u001B[0;32m<ipython-input-2-987530c16fbe>\u001B[0m in \u001B[0;36m<module>\u001B[0;34m\u001B[0m\n\u001B[0;32m----> 1\u001B[0;31m \u001B[0;32mimport\u001B[0m \u001B[0mtorch\u001B[0m\u001B[0;34m\u001B[0m\u001B[0;34m\u001B[0m\u001B[0m\n\u001B[0m\u001B[1;32m      2\u001B[0m \u001B[0;32mimport\u001B[0m \u001B[0mtorchmetrics\u001B[0m\u001B[0;34m\u001B[0m\u001B[0;34m\u001B[0m\u001B[0m\n\u001B[1;32m      3\u001B[0m \u001B[0;32mfrom\u001B[0m \u001B[0mtorch\u001B[0m \u001B[0;32mimport\u001B[0m \u001B[0mnn\u001B[0m\u001B[0;34m\u001B[0m\u001B[0;34m\u001B[0m\u001B[0m\n\u001B[1;32m      4\u001B[0m \u001B[0;32mimport\u001B[0m \u001B[0mpytorch_lightning\u001B[0m \u001B[0;32mas\u001B[0m \u001B[0mpl\u001B[0m\u001B[0;34m\u001B[0m\u001B[0;34m\u001B[0m\u001B[0m\n\u001B[1;32m      5\u001B[0m \u001B[0;32mimport\u001B[0m \u001B[0msnntorch\u001B[0m \u001B[0;32mas\u001B[0m \u001B[0msnn\u001B[0m\u001B[0;34m\u001B[0m\u001B[0;34m\u001B[0m\u001B[0m\n",
      "\u001B[0;31mModuleNotFoundError\u001B[0m: No module named 'torch'"
     ]
    }
   ],
   "source": [
    "import torch\n",
    "import torchmetrics\n",
    "from torch import nn\n",
    "import pytorch_lightning as pl\n",
    "import snntorch as snn\n",
    "import torch.nn.functional as F\n",
    "from snntorch import surrogate\n",
    "import snntorch.functional as SF\n",
    "\n",
    "\n",
    "class SpikeText(pl.LightningModule):\n",
    "    def __init__(self, num_inputs, num_hidden, beta, num_outputs, learning_rate):\n",
    "        super().__init__()\n",
    "\n",
    "        # Initialize layers\n",
    "        self.spike_grad = surrogate.fast_sigmoid()\n",
    "        self.fc1 = nn.Linear(num_inputs, num_hidden)\n",
    "        self.lif1 = snn.Leaky(beta=beta, spike_grad=self.spike_grad)\n",
    "        self.fc2 = nn.Linear(num_hidden, num_outputs)\n",
    "        # Initialize hidden states at t=0\n",
    "        self.mem1 = self.lif1.init_leaky()\n",
    "        self.lr = learning_rate\n",
    "        # self.loss_fct = SF.mse_count_loss(correct_rate=0.8, incorrect_rate=0.2)\n",
    "        self.loss_fct = F.cross_entropy\n",
    "        self.train_accuracy = torchmetrics.Accuracy()\n",
    "        self.test_accuracy = torchmetrics.Accuracy()\n",
    "\n",
    "    def forward(self, x, mem1):\n",
    "        cur1 = self.fc1(x)\n",
    "        spk1, mem1_after = self.lif1(cur1, mem1)\n",
    "        cur2 = self.fc2(spk1)\n",
    "        return cur2, mem1_after\n",
    "\n",
    "    def training_step(self, batch, batch_idx, mem1=None):\n",
    "        if not mem1:\n",
    "            mem1 = self.mem1\n",
    "        x, y = batch\n",
    "        cur, mem1_after = self.forward(x, mem1)\n",
    "        loss = self.loss_fct(cur, y)\n",
    "        self.log(\"train_loss\", loss, prog_bar=True)\n",
    "        self.train_accuracy(cur, y)\n",
    "        self.log(\"train_acc\", self.train_accuracy.compute(), prog_bar=True)\n",
    "        return {'loss': loss, 'mem1': mem1_after}\n",
    "\n",
    "    # def validation_step(self, batch, batch_idx):\n",
    "    #     x, y = batch\n",
    "    #     spk, mem = self.forward(x)\n",
    "    #     loss = self.loss_fct(mem, y)\n",
    "    #     self.log(\"val_loss\", loss, prog_bar=True)\n",
    "    #     return {'loss': loss}\n",
    "\n",
    "    def test_step(self, batch, batch_idx, mem1=None):\n",
    "        if not mem1:\n",
    "            mem1 = self.mem1\n",
    "        x, y = batch\n",
    "        cur, mem1_after = self.forward(x, mem1)\n",
    "        loss = self.loss_fct(cur, y)\n",
    "        self.log(\"test_loss\", loss, prog_bar=True)\n",
    "        self.test_accuracy(cur, y)\n",
    "        self.log(\"test_acc\", self.test_accuracy.compute(), prog_bar=True)\n",
    "        return {'loss': loss, 'mem1': mem1_after}\n",
    "\n",
    "    def configure_optimizers(self):\n",
    "        return torch.optim.Adam(self.parameters(), lr=self.lr)\n"
   ],
   "metadata": {
    "collapsed": false,
    "pycharm": {
     "name": "#%%\n"
    }
   }
  },
  {
   "cell_type": "code",
   "execution_count": 11,
   "outputs": [],
   "source": [
    "from pytorch_lightning.callbacks import ModelCheckpoint\n",
    "\n",
    "ib_data_module = MyDataModule(\n",
    "    train_path='data/TitleMeshIB/TrainTitleIB.csv',\n",
    "    test_path='data/TitleMeshIB/TestTitleIB.csv',\n",
    "    train_classes_path='data/TitleMeshIB/TrainTitleIBClass.csv',\n",
    "    test_classes_path='data/TitleMeshIB/TestTitleIBClass.csv'\n",
    ")\n",
    "b_data_module = MyDataModule(\n",
    "    train_path='data/TitleMeshB/TrainTitleB.csv',\n",
    "    test_path='data/TitleMeshB/TestTitleB.csv',\n",
    "    train_classes_path='data/TitleMeshB/TrainTitleBClass.csv',\n",
    "    test_classes_path='data/TitleMeshB/TestTitleBClass.csv'\n",
    ")\n",
    "ng_data_module = MyDataModule(\n",
    "    train_path='data/20NewsgroupShort/TrainShortBydate.csv',\n",
    "    test_path='data/20NewsgroupShort/TestShortBydate.csv',\n",
    "    train_classes_path='data/20NewsgroupShort/TrainShortBydateClass.csv',\n",
    "    test_classes_path='data/20NewsgroupShort/TestShortBydateClass.csv'\n",
    ")"
   ],
   "metadata": {
    "collapsed": false,
    "pycharm": {
     "name": "#%%\n"
    }
   }
  },
  {
   "cell_type": "code",
   "execution_count": 12,
   "outputs": [],
   "source": [
    "model_ng = SpikeText(num_inputs=ng_data_module.num_inputs, num_hidden=1000, beta=0.92,\n",
    "                     num_outputs=ng_data_module.num_outputs, learning_rate=1e-4)\n",
    "model_ib = SpikeText(num_inputs=ib_data_module.num_inputs, num_hidden=1000, beta=0.92,\n",
    "                     num_outputs=ib_data_module.num_outputs, learning_rate=1e-4)\n",
    "model_b = SpikeText(num_inputs=b_data_module.num_inputs, num_hidden=1000, beta=0.92,\n",
    "                    num_outputs=b_data_module.num_outputs, learning_rate=1e-4)"
   ],
   "metadata": {
    "collapsed": false,
    "pycharm": {
     "name": "#%%\n"
    }
   }
  },
  {
   "cell_type": "code",
   "execution_count": 13,
   "outputs": [],
   "source": [
    "checkpoint_callback = ModelCheckpoint(\n",
    "    monitor=\"train_acc\",\n",
    "    dirpath='lightning_logs',\n",
    "    filename=\"{epoch:02d}-{train_acc:.2f}\",\n",
    ")"
   ],
   "metadata": {
    "collapsed": false,
    "pycharm": {
     "name": "#%%\n"
    }
   }
  },
  {
   "cell_type": "code",
   "execution_count": 14,
   "outputs": [
    {
     "name": "stderr",
     "output_type": "stream",
     "text": [
      "GPU available: False, used: False\n",
      "TPU available: False, using: 0 TPU cores\n",
      "IPU available: False, using: 0 IPUs\n",
      "GPU available: False, used: False\n",
      "TPU available: False, using: 0 TPU cores\n",
      "IPU available: False, using: 0 IPUs\n",
      "GPU available: False, used: False\n",
      "TPU available: False, using: 0 TPU cores\n",
      "IPU available: False, using: 0 IPUs\n"
     ]
    }
   ],
   "source": [
    "ib_trainer = pl.Trainer(default_root_dir='lightning_logs',\n",
    "                        max_epochs=8, gpus=torch.cuda.device_count(),\n",
    "                        callbacks=[checkpoint_callback])\n",
    "b_trainer = pl.Trainer(default_root_dir='lightning_logs',\n",
    "                       max_epochs=8, gpus=torch.cuda.device_count(),\n",
    "                       callbacks=[checkpoint_callback])\n",
    "ng_trainer = pl.Trainer(default_root_dir='lightning_logs',\n",
    "                        max_epochs=8, gpus=torch.cuda.device_count(),\n",
    "                        callbacks=[checkpoint_callback])"
   ],
   "metadata": {
    "collapsed": false,
    "pycharm": {
     "name": "#%%\n"
    }
   }
  },
  {
   "cell_type": "code",
   "execution_count": 15,
   "outputs": [
    {
     "name": "stderr",
     "output_type": "stream",
     "text": [
      "\n",
      "  | Name           | Type     | Params\n",
      "--------------------------------------------\n",
      "0 | fc1            | Linear   | 752 K \n",
      "1 | lif1           | Leaky    | 0     \n",
      "2 | fc2            | Linear   | 20.0 K\n",
      "3 | train_accuracy | Accuracy | 0     \n",
      "4 | test_accuracy  | Accuracy | 0     \n",
      "--------------------------------------------\n",
      "772 K     Trainable params\n",
      "0         Non-trainable params\n",
      "772 K     Total params\n",
      "3.088     Total estimated model params size (MB)\n"
     ]
    },
    {
     "data": {
      "text/plain": "Training: 0it [00:00, ?it/s]",
      "application/vnd.jupyter.widget-view+json": {
       "version_major": 2,
       "version_minor": 0,
       "model_id": "bf563814833545f0ba7bcb5f14382796"
      }
     },
     "metadata": {},
     "output_type": "display_data"
    },
    {
     "name": "stderr",
     "output_type": "stream",
     "text": [
      "\n",
      "  | Name           | Type     | Params\n",
      "--------------------------------------------\n",
      "0 | fc1            | Linear   | 1.6 M \n",
      "1 | lif1           | Leaky    | 0     \n",
      "2 | fc2            | Linear   | 15.0 K\n",
      "3 | train_accuracy | Accuracy | 0     \n",
      "4 | test_accuracy  | Accuracy | 0     \n",
      "--------------------------------------------\n",
      "1.6 M     Trainable params\n",
      "0         Non-trainable params\n",
      "1.6 M     Total params\n",
      "6.484     Total estimated model params size (MB)\n"
     ]
    },
    {
     "data": {
      "text/plain": "Training: 0it [00:00, ?it/s]",
      "application/vnd.jupyter.widget-view+json": {
       "version_major": 2,
       "version_minor": 0,
       "model_id": "66ea79783aaa47e599686640ac393e30"
      }
     },
     "metadata": {},
     "output_type": "display_data"
    },
    {
     "name": "stderr",
     "output_type": "stream",
     "text": [
      "\n",
      "  | Name           | Type     | Params\n",
      "--------------------------------------------\n",
      "0 | fc1            | Linear   | 1.6 M \n",
      "1 | lif1           | Leaky    | 0     \n",
      "2 | fc2            | Linear   | 15.0 K\n",
      "3 | train_accuracy | Accuracy | 0     \n",
      "4 | test_accuracy  | Accuracy | 0     \n",
      "--------------------------------------------\n",
      "1.6 M     Trainable params\n",
      "0         Non-trainable params\n",
      "1.6 M     Total params\n",
      "6.484     Total estimated model params size (MB)\n"
     ]
    },
    {
     "data": {
      "text/plain": "Training: 0it [00:00, ?it/s]",
      "application/vnd.jupyter.widget-view+json": {
       "version_major": 2,
       "version_minor": 0,
       "model_id": "3d447ef5532c4891becccb509c14d779"
      }
     },
     "metadata": {},
     "output_type": "display_data"
    }
   ],
   "source": [
    "training_sets = [(model_ng, ng_data_module, ng_trainer), (model_b, b_data_module, b_trainer),\n",
    "                 (model_ib, ib_data_module, ib_trainer)]\n",
    "for model, data_module, trainer in training_sets:\n",
    "    trainer.fit(model, datamodule=data_module)"
   ],
   "metadata": {
    "collapsed": false,
    "pycharm": {
     "name": "#%%\n"
    }
   }
  },
  {
   "cell_type": "code",
   "execution_count": 16,
   "outputs": [
    {
     "data": {
      "text/plain": "Testing: 0it [00:00, ?it/s]",
      "application/vnd.jupyter.widget-view+json": {
       "version_major": 2,
       "version_minor": 0,
       "model_id": "4aa72962cd164633a3c78f12c947699b"
      }
     },
     "metadata": {},
     "output_type": "display_data"
    },
    {
     "name": "stdout",
     "output_type": "stream",
     "text": [
      "--------------------------------------------------------------------------------\n",
      "DATALOADER:0 TEST RESULTS\n",
      "{'test_acc': 0.23975901305675507, 'test_loss': 3.216249465942383}\n",
      "--------------------------------------------------------------------------------\n"
     ]
    },
    {
     "data": {
      "text/plain": "Testing: 0it [00:00, ?it/s]",
      "application/vnd.jupyter.widget-view+json": {
       "version_major": 2,
       "version_minor": 0,
       "model_id": "6ed3bf71b04c42939f31cbe462995155"
      }
     },
     "metadata": {},
     "output_type": "display_data"
    },
    {
     "name": "stdout",
     "output_type": "stream",
     "text": [
      "--------------------------------------------------------------------------------\n",
      "DATALOADER:0 TEST RESULTS\n",
      "{'test_acc': 0.3863840699195862, 'test_loss': 2.1964197158813477}\n",
      "--------------------------------------------------------------------------------\n"
     ]
    },
    {
     "data": {
      "text/plain": "Testing: 0it [00:00, ?it/s]",
      "application/vnd.jupyter.widget-view+json": {
       "version_major": 2,
       "version_minor": 0,
       "model_id": "8bcad8bc43164fdbb304cfbdcc066df2"
      }
     },
     "metadata": {},
     "output_type": "display_data"
    },
    {
     "name": "stdout",
     "output_type": "stream",
     "text": [
      "--------------------------------------------------------------------------------\n",
      "DATALOADER:0 TEST RESULTS\n",
      "{'test_acc': 0.3924439251422882, 'test_loss': 2.207373857498169}\n",
      "--------------------------------------------------------------------------------\n"
     ]
    }
   ],
   "source": [
    "for model, data_module, trainer in training_sets:\n",
    "    trainer.test(model, datamodule=data_module)"
   ],
   "metadata": {
    "collapsed": false,
    "pycharm": {
     "name": "#%%\n"
    }
   }
  },
  {
   "cell_type": "markdown",
   "source": [
    "## Training and testing MLP network:\n",
    "- two layer\n",
    "- sigmoid activation function"
   ],
   "metadata": {
    "collapsed": false
   }
  },
  {
   "cell_type": "code",
   "execution_count": 22,
   "outputs": [],
   "source": [
    "class Perceptron(pl.LightningModule):\n",
    "    def __init__(self, num_inputs, num_hidden, num_outputs, learning_rate):\n",
    "        super().__init__()\n",
    "        # Initialize layers\n",
    "        self.fc1 = nn.Linear(num_inputs, num_hidden)\n",
    "        self.fc2 = nn.Linear(num_hidden, num_outputs)\n",
    "        self.lr = learning_rate\n",
    "        self.loss_fct = F.cross_entropy\n",
    "        self.train_accuracy = torchmetrics.Accuracy()\n",
    "        self.test_accuracy = torchmetrics.Accuracy()\n",
    "        self.sigmoid = nn.Sigmoid()\n",
    "\n",
    "    def forward(self, x):\n",
    "        cur1 = self.fc1(x)\n",
    "        cur1 = self.sigmoid(cur1)\n",
    "        cur2 = self.fc2(cur1)\n",
    "        cur2 = self.sigmoid(cur2)\n",
    "        return cur2\n",
    "\n",
    "    def training_step(self, batch, batch_idx):\n",
    "        x, y = batch\n",
    "        cur = self.forward(x)\n",
    "        loss = self.loss_fct(cur, y)\n",
    "        self.log(\"train_loss\", loss, prog_bar=True)\n",
    "        self.train_accuracy(cur, y)\n",
    "        self.log(\"train_acc\", self.train_accuracy.compute(), prog_bar=True)\n",
    "        return {'loss': loss}\n",
    "\n",
    "    def test_step(self, batch, batch_idx):\n",
    "        x, y = batch\n",
    "        cur = self.forward(x)\n",
    "        loss = self.loss_fct(cur, y)\n",
    "        self.log(\"test_loss\", loss, prog_bar=True)\n",
    "        self.test_accuracy(cur, y)\n",
    "        self.log(\"test_acc\", self.test_accuracy.compute(), prog_bar=True)\n",
    "        return {'loss': loss}\n",
    "\n",
    "    def configure_optimizers(self):\n",
    "        return torch.optim.Adam(self.parameters(), lr=self.lr)"
   ],
   "metadata": {
    "collapsed": false,
    "pycharm": {
     "name": "#%%\n"
    }
   }
  },
  {
   "cell_type": "code",
   "execution_count": 23,
   "outputs": [],
   "source": [
    "ib_data_module = MyDataModule(\n",
    "    train_path='data/TitleMeshIB/TrainTitleIB.csv',\n",
    "    test_path='data/TitleMeshIB/TestTitleIB.csv',\n",
    "    train_classes_path='data/TitleMeshIB/TrainTitleIBClass.csv',\n",
    "    test_classes_path='data/TitleMeshIB/TestTitleIBClass.csv'\n",
    ")\n",
    "b_data_module = MyDataModule(\n",
    "    train_path='data/TitleMeshB/TrainTitleB.csv',\n",
    "    test_path='data/TitleMeshB/TestTitleB.csv',\n",
    "    train_classes_path='data/TitleMeshB/TrainTitleBClass.csv',\n",
    "    test_classes_path='data/TitleMeshB/TestTitleBClass.csv'\n",
    ")\n",
    "ng_data_module = MyDataModule(\n",
    "    train_path='data/20NewsgroupShort/TrainShortBydate.csv',\n",
    "    test_path='data/20NewsgroupShort/TestShortBydate.csv',\n",
    "    train_classes_path='data/20NewsgroupShort/TrainShortBydateClass.csv',\n",
    "    test_classes_path='data/20NewsgroupShort/TestShortBydateClass.csv'\n",
    ")"
   ],
   "metadata": {
    "collapsed": false,
    "pycharm": {
     "name": "#%%\n"
    }
   }
  },
  {
   "cell_type": "code",
   "execution_count": 24,
   "outputs": [
    {
     "name": "stderr",
     "output_type": "stream",
     "text": [
      "GPU available: False, used: False\n",
      "TPU available: False, using: 0 TPU cores\n",
      "IPU available: False, using: 0 IPUs\n",
      "GPU available: False, used: False\n",
      "TPU available: False, using: 0 TPU cores\n",
      "IPU available: False, using: 0 IPUs\n",
      "GPU available: False, used: False\n",
      "TPU available: False, using: 0 TPU cores\n",
      "IPU available: False, using: 0 IPUs\n",
      "\n",
      "  | Name           | Type     | Params\n",
      "--------------------------------------------\n",
      "0 | fc1            | Linear   | 752 K \n",
      "1 | fc2            | Linear   | 20.0 K\n",
      "2 | train_accuracy | Accuracy | 0     \n",
      "3 | test_accuracy  | Accuracy | 0     \n",
      "4 | sigmoid        | Sigmoid  | 0     \n",
      "--------------------------------------------\n",
      "772 K     Trainable params\n",
      "0         Non-trainable params\n",
      "772 K     Total params\n",
      "3.088     Total estimated model params size (MB)\n"
     ]
    },
    {
     "data": {
      "text/plain": "Training: 0it [00:00, ?it/s]",
      "application/vnd.jupyter.widget-view+json": {
       "version_major": 2,
       "version_minor": 0,
       "model_id": "a7558ebfa15e4d07934fb82976110c63"
      }
     },
     "metadata": {},
     "output_type": "display_data"
    },
    {
     "data": {
      "text/plain": "Testing: 0it [00:00, ?it/s]",
      "application/vnd.jupyter.widget-view+json": {
       "version_major": 2,
       "version_minor": 0,
       "model_id": "cdf8f9c8e0c149458fd38ff36d78e039"
      }
     },
     "metadata": {},
     "output_type": "display_data"
    },
    {
     "name": "stdout",
     "output_type": "stream",
     "text": [
      "--------------------------------------------------------------------------------\n",
      "DATALOADER:0 TEST RESULTS\n",
      "{'test_acc': 0.005353775341063738, 'test_loss': 3.132871627807617}\n",
      "--------------------------------------------------------------------------------\n"
     ]
    },
    {
     "name": "stderr",
     "output_type": "stream",
     "text": [
      "\n",
      "  | Name           | Type     | Params\n",
      "--------------------------------------------\n",
      "0 | fc1            | Linear   | 1.6 M \n",
      "1 | fc2            | Linear   | 15.0 K\n",
      "2 | train_accuracy | Accuracy | 0     \n",
      "3 | test_accuracy  | Accuracy | 0     \n",
      "4 | sigmoid        | Sigmoid  | 0     \n",
      "--------------------------------------------\n",
      "1.6 M     Trainable params\n",
      "0         Non-trainable params\n",
      "1.6 M     Total params\n",
      "6.484     Total estimated model params size (MB)\n"
     ]
    },
    {
     "data": {
      "text/plain": "Training: 0it [00:00, ?it/s]",
      "application/vnd.jupyter.widget-view+json": {
       "version_major": 2,
       "version_minor": 0,
       "model_id": "cda37efcca854f2bacf6e5e0993a4360"
      }
     },
     "metadata": {},
     "output_type": "display_data"
    },
    {
     "data": {
      "text/plain": "Testing: 0it [00:00, ?it/s]",
      "application/vnd.jupyter.widget-view+json": {
       "version_major": 2,
       "version_minor": 0,
       "model_id": "69b7cd549e534ba88051cdbbdbab6005"
      }
     },
     "metadata": {},
     "output_type": "display_data"
    },
    {
     "name": "stdout",
     "output_type": "stream",
     "text": [
      "--------------------------------------------------------------------------------\n",
      "DATALOADER:0 TEST RESULTS\n",
      "{'test_acc': 0.31251537799835205, 'test_loss': 2.400862455368042}\n",
      "--------------------------------------------------------------------------------\n"
     ]
    },
    {
     "name": "stderr",
     "output_type": "stream",
     "text": [
      "\n",
      "  | Name           | Type     | Params\n",
      "--------------------------------------------\n",
      "0 | fc1            | Linear   | 1.6 M \n",
      "1 | fc2            | Linear   | 15.0 K\n",
      "2 | train_accuracy | Accuracy | 0     \n",
      "3 | test_accuracy  | Accuracy | 0     \n",
      "4 | sigmoid        | Sigmoid  | 0     \n",
      "--------------------------------------------\n",
      "1.6 M     Trainable params\n",
      "0         Non-trainable params\n",
      "1.6 M     Total params\n",
      "6.484     Total estimated model params size (MB)\n"
     ]
    },
    {
     "data": {
      "text/plain": "Training: 0it [00:00, ?it/s]",
      "application/vnd.jupyter.widget-view+json": {
       "version_major": 2,
       "version_minor": 0,
       "model_id": "a8ebeda8062442b5ad6c918b8662af3a"
      }
     },
     "metadata": {},
     "output_type": "display_data"
    },
    {
     "data": {
      "text/plain": "Testing: 0it [00:00, ?it/s]",
      "application/vnd.jupyter.widget-view+json": {
       "version_major": 2,
       "version_minor": 0,
       "model_id": "51e815e8a9bb4105b71346f852a9aba0"
      }
     },
     "metadata": {},
     "output_type": "display_data"
    },
    {
     "name": "stdout",
     "output_type": "stream",
     "text": [
      "--------------------------------------------------------------------------------\n",
      "DATALOADER:0 TEST RESULTS\n",
      "{'test_acc': 0.3054978549480438, 'test_loss': 2.400843620300293}\n",
      "--------------------------------------------------------------------------------\n"
     ]
    }
   ],
   "source": [
    "ng_mlp_model = Perceptron(num_inputs=ng_data_module.num_inputs, num_hidden=1000,\n",
    "                          num_outputs=ng_data_module.num_outputs, learning_rate=1e-4)\n",
    "ib_mlp_model = Perceptron(num_inputs=ib_data_module.num_inputs, num_hidden=1000,\n",
    "                          num_outputs=ib_data_module.num_outputs, learning_rate=1e-4)\n",
    "b_mlp_model = Perceptron(num_inputs=b_data_module.num_inputs, num_hidden=1000,\n",
    "                         num_outputs=b_data_module.num_outputs, learning_rate=1e-4)\n",
    "\n",
    "checkpoint_callback = ModelCheckpoint(\n",
    "    monitor=\"train_acc\",\n",
    "    dirpath='lightning_logs',\n",
    "    filename=\"{epoch:02d}-{train_acc:.2f}\",\n",
    ")\n",
    "mlp_trainer_ib = pl.Trainer(default_root_dir='lightning_logs',\n",
    "                            max_epochs=8, gpus=torch.cuda.device_count(),\n",
    "                            callbacks=[checkpoint_callback])\n",
    "mlp_trainer_b = pl.Trainer(default_root_dir='lightning_logs',\n",
    "                           max_epochs=8, gpus=torch.cuda.device_count(),\n",
    "                           callbacks=[checkpoint_callback])\n",
    "mlp_trainer_ng = pl.Trainer(default_root_dir='lightning_logs',\n",
    "                            max_epochs=8, gpus=torch.cuda.device_count(),\n",
    "                            callbacks=[checkpoint_callback])\n",
    "\n",
    "mlp_training_sets = [(ng_mlp_model, ng_data_module, mlp_trainer_ng), (ib_mlp_model, ib_data_module, mlp_trainer_ib),\n",
    "                     (b_mlp_model, b_data_module, mlp_trainer_b)]\n",
    "\n",
    "for mlp_model, mlp_data_module, mlp_trainer in mlp_training_sets:\n",
    "    mlp_trainer.fit(mlp_model, datamodule=mlp_data_module)\n",
    "    mlp_trainer.test(mlp_model, datamodule=mlp_data_module)"
   ],
   "metadata": {
    "collapsed": false,
    "pycharm": {
     "name": "#%%\n"
    }
   }
  },
  {
   "cell_type": "markdown",
   "source": [
    "## Training and testing decision tree"
   ],
   "metadata": {
    "collapsed": false
   }
  },
  {
   "cell_type": "code",
   "execution_count": 129,
   "outputs": [
    {
     "name": "stdout",
     "output_type": "stream",
     "text": [
      "RESULT: 0.4340148698884758\n",
      "RESULT: 0.2603938730853392\n",
      "RESULT: 0.23763440860215054\n"
     ]
    }
   ],
   "source": [
    "from sklearn import tree\n",
    "from sklearn.metrics import accuracy_score\n",
    "\n",
    "for data_module in [ng_data_module, ib_data_module, b_data_module]:\n",
    "    X = data_module.train_data\n",
    "    y = data_module.train_classes\n",
    "    clf = tree.DecisionTreeClassifier()\n",
    "    clf.fit(X, y)\n",
    "    pred = clf.predict(data_module.test_data)\n",
    "    print(\"RESULT:\", accuracy_score(data_module.test_classes, pred))"
   ],
   "metadata": {
    "collapsed": false,
    "pycharm": {
     "name": "#%%\n"
    }
   }
  },
  {
   "cell_type": "markdown",
   "source": [
    "## Training and testing logistic regression\n",
    "- max_iter = 100"
   ],
   "metadata": {
    "collapsed": false
   }
  },
  {
   "cell_type": "code",
   "execution_count": 130,
   "outputs": [
    {
     "name": "stderr",
     "output_type": "stream",
     "text": [
      "/Users/piotr/Praca/Nauka/Publikacje/Hierarchical Text Classification/Software/SNNTorch_classifer/venv/lib/python3.8/site-packages/sklearn/linear_model/_logistic.py:814: ConvergenceWarning: lbfgs failed to converge (status=1):\n",
      "STOP: TOTAL NO. of ITERATIONS REACHED LIMIT.\n",
      "\n",
      "Increase the number of iterations (max_iter) or scale the data as shown in:\n",
      "    https://scikit-learn.org/stable/modules/preprocessing.html\n",
      "Please also refer to the documentation for alternative solver options:\n",
      "    https://scikit-learn.org/stable/modules/linear_model.html#logistic-regression\n",
      "  n_iter_i = _check_optimize_result(\n",
      "/Users/piotr/Praca/Nauka/Publikacje/Hierarchical Text Classification/Software/SNNTorch_classifer/venv/lib/python3.8/site-packages/sklearn/linear_model/_logistic.py:814: ConvergenceWarning: lbfgs failed to converge (status=1):\n",
      "STOP: TOTAL NO. of ITERATIONS REACHED LIMIT.\n",
      "\n",
      "Increase the number of iterations (max_iter) or scale the data as shown in:\n",
      "    https://scikit-learn.org/stable/modules/preprocessing.html\n",
      "Please also refer to the documentation for alternative solver options:\n",
      "    https://scikit-learn.org/stable/modules/linear_model.html#logistic-regression\n",
      "  n_iter_i = _check_optimize_result(\n",
      "/Users/piotr/Praca/Nauka/Publikacje/Hierarchical Text Classification/Software/SNNTorch_classifer/venv/lib/python3.8/site-packages/sklearn/linear_model/_logistic.py:814: ConvergenceWarning: lbfgs failed to converge (status=1):\n",
      "STOP: TOTAL NO. of ITERATIONS REACHED LIMIT.\n",
      "\n",
      "Increase the number of iterations (max_iter) or scale the data as shown in:\n",
      "    https://scikit-learn.org/stable/modules/preprocessing.html\n",
      "Please also refer to the documentation for alternative solver options:\n",
      "    https://scikit-learn.org/stable/modules/linear_model.html#logistic-regression\n",
      "  n_iter_i = _check_optimize_result(\n",
      "/Users/piotr/Praca/Nauka/Publikacje/Hierarchical Text Classification/Software/SNNTorch_classifer/venv/lib/python3.8/site-packages/sklearn/linear_model/_logistic.py:814: ConvergenceWarning: lbfgs failed to converge (status=1):\n",
      "STOP: TOTAL NO. of ITERATIONS REACHED LIMIT.\n",
      "\n",
      "Increase the number of iterations (max_iter) or scale the data as shown in:\n",
      "    https://scikit-learn.org/stable/modules/preprocessing.html\n",
      "Please also refer to the documentation for alternative solver options:\n",
      "    https://scikit-learn.org/stable/modules/linear_model.html#logistic-regression\n",
      "  n_iter_i = _check_optimize_result(\n",
      "/Users/piotr/Praca/Nauka/Publikacje/Hierarchical Text Classification/Software/SNNTorch_classifer/venv/lib/python3.8/site-packages/sklearn/linear_model/_logistic.py:814: ConvergenceWarning: lbfgs failed to converge (status=1):\n",
      "STOP: TOTAL NO. of ITERATIONS REACHED LIMIT.\n",
      "\n",
      "Increase the number of iterations (max_iter) or scale the data as shown in:\n",
      "    https://scikit-learn.org/stable/modules/preprocessing.html\n",
      "Please also refer to the documentation for alternative solver options:\n",
      "    https://scikit-learn.org/stable/modules/linear_model.html#logistic-regression\n",
      "  n_iter_i = _check_optimize_result(\n",
      "/Users/piotr/Praca/Nauka/Publikacje/Hierarchical Text Classification/Software/SNNTorch_classifer/venv/lib/python3.8/site-packages/sklearn/linear_model/_logistic.py:814: ConvergenceWarning: lbfgs failed to converge (status=1):\n",
      "STOP: TOTAL NO. of ITERATIONS REACHED LIMIT.\n",
      "\n",
      "Increase the number of iterations (max_iter) or scale the data as shown in:\n",
      "    https://scikit-learn.org/stable/modules/preprocessing.html\n",
      "Please also refer to the documentation for alternative solver options:\n",
      "    https://scikit-learn.org/stable/modules/linear_model.html#logistic-regression\n",
      "  n_iter_i = _check_optimize_result(\n"
     ]
    },
    {
     "name": "stdout",
     "output_type": "stream",
     "text": [
      "RESULT: 0.5908125331917153\n"
     ]
    },
    {
     "name": "stderr",
     "output_type": "stream",
     "text": [
      "/Users/piotr/Praca/Nauka/Publikacje/Hierarchical Text Classification/Software/SNNTorch_classifer/venv/lib/python3.8/site-packages/sklearn/linear_model/_logistic.py:814: ConvergenceWarning: lbfgs failed to converge (status=1):\n",
      "STOP: TOTAL NO. of ITERATIONS REACHED LIMIT.\n",
      "\n",
      "Increase the number of iterations (max_iter) or scale the data as shown in:\n",
      "    https://scikit-learn.org/stable/modules/preprocessing.html\n",
      "Please also refer to the documentation for alternative solver options:\n",
      "    https://scikit-learn.org/stable/modules/linear_model.html#logistic-regression\n",
      "  n_iter_i = _check_optimize_result(\n",
      "/Users/piotr/Praca/Nauka/Publikacje/Hierarchical Text Classification/Software/SNNTorch_classifer/venv/lib/python3.8/site-packages/sklearn/linear_model/_logistic.py:814: ConvergenceWarning: lbfgs failed to converge (status=1):\n",
      "STOP: TOTAL NO. of ITERATIONS REACHED LIMIT.\n",
      "\n",
      "Increase the number of iterations (max_iter) or scale the data as shown in:\n",
      "    https://scikit-learn.org/stable/modules/preprocessing.html\n",
      "Please also refer to the documentation for alternative solver options:\n",
      "    https://scikit-learn.org/stable/modules/linear_model.html#logistic-regression\n",
      "  n_iter_i = _check_optimize_result(\n",
      "/Users/piotr/Praca/Nauka/Publikacje/Hierarchical Text Classification/Software/SNNTorch_classifer/venv/lib/python3.8/site-packages/sklearn/linear_model/_logistic.py:814: ConvergenceWarning: lbfgs failed to converge (status=1):\n",
      "STOP: TOTAL NO. of ITERATIONS REACHED LIMIT.\n",
      "\n",
      "Increase the number of iterations (max_iter) or scale the data as shown in:\n",
      "    https://scikit-learn.org/stable/modules/preprocessing.html\n",
      "Please also refer to the documentation for alternative solver options:\n",
      "    https://scikit-learn.org/stable/modules/linear_model.html#logistic-regression\n",
      "  n_iter_i = _check_optimize_result(\n",
      "/Users/piotr/Praca/Nauka/Publikacje/Hierarchical Text Classification/Software/SNNTorch_classifer/venv/lib/python3.8/site-packages/sklearn/linear_model/_logistic.py:814: ConvergenceWarning: lbfgs failed to converge (status=1):\n",
      "STOP: TOTAL NO. of ITERATIONS REACHED LIMIT.\n",
      "\n",
      "Increase the number of iterations (max_iter) or scale the data as shown in:\n",
      "    https://scikit-learn.org/stable/modules/preprocessing.html\n",
      "Please also refer to the documentation for alternative solver options:\n",
      "    https://scikit-learn.org/stable/modules/linear_model.html#logistic-regression\n",
      "  n_iter_i = _check_optimize_result(\n",
      "/Users/piotr/Praca/Nauka/Publikacje/Hierarchical Text Classification/Software/SNNTorch_classifer/venv/lib/python3.8/site-packages/sklearn/linear_model/_logistic.py:814: ConvergenceWarning: lbfgs failed to converge (status=1):\n",
      "STOP: TOTAL NO. of ITERATIONS REACHED LIMIT.\n",
      "\n",
      "Increase the number of iterations (max_iter) or scale the data as shown in:\n",
      "    https://scikit-learn.org/stable/modules/preprocessing.html\n",
      "Please also refer to the documentation for alternative solver options:\n",
      "    https://scikit-learn.org/stable/modules/linear_model.html#logistic-regression\n",
      "  n_iter_i = _check_optimize_result(\n"
     ]
    },
    {
     "name": "stdout",
     "output_type": "stream",
     "text": [
      "RESULT: 0.4026258205689278\n"
     ]
    },
    {
     "name": "stderr",
     "output_type": "stream",
     "text": [
      "/Users/piotr/Praca/Nauka/Publikacje/Hierarchical Text Classification/Software/SNNTorch_classifer/venv/lib/python3.8/site-packages/sklearn/linear_model/_logistic.py:814: ConvergenceWarning: lbfgs failed to converge (status=1):\n",
      "STOP: TOTAL NO. of ITERATIONS REACHED LIMIT.\n",
      "\n",
      "Increase the number of iterations (max_iter) or scale the data as shown in:\n",
      "    https://scikit-learn.org/stable/modules/preprocessing.html\n",
      "Please also refer to the documentation for alternative solver options:\n",
      "    https://scikit-learn.org/stable/modules/linear_model.html#logistic-regression\n",
      "  n_iter_i = _check_optimize_result(\n",
      "/Users/piotr/Praca/Nauka/Publikacje/Hierarchical Text Classification/Software/SNNTorch_classifer/venv/lib/python3.8/site-packages/sklearn/linear_model/_logistic.py:814: ConvergenceWarning: lbfgs failed to converge (status=1):\n",
      "STOP: TOTAL NO. of ITERATIONS REACHED LIMIT.\n",
      "\n",
      "Increase the number of iterations (max_iter) or scale the data as shown in:\n",
      "    https://scikit-learn.org/stable/modules/preprocessing.html\n",
      "Please also refer to the documentation for alternative solver options:\n",
      "    https://scikit-learn.org/stable/modules/linear_model.html#logistic-regression\n",
      "  n_iter_i = _check_optimize_result(\n",
      "/Users/piotr/Praca/Nauka/Publikacje/Hierarchical Text Classification/Software/SNNTorch_classifer/venv/lib/python3.8/site-packages/sklearn/linear_model/_logistic.py:814: ConvergenceWarning: lbfgs failed to converge (status=1):\n",
      "STOP: TOTAL NO. of ITERATIONS REACHED LIMIT.\n",
      "\n",
      "Increase the number of iterations (max_iter) or scale the data as shown in:\n",
      "    https://scikit-learn.org/stable/modules/preprocessing.html\n",
      "Please also refer to the documentation for alternative solver options:\n",
      "    https://scikit-learn.org/stable/modules/linear_model.html#logistic-regression\n",
      "  n_iter_i = _check_optimize_result(\n",
      "/Users/piotr/Praca/Nauka/Publikacje/Hierarchical Text Classification/Software/SNNTorch_classifer/venv/lib/python3.8/site-packages/sklearn/linear_model/_logistic.py:814: ConvergenceWarning: lbfgs failed to converge (status=1):\n",
      "STOP: TOTAL NO. of ITERATIONS REACHED LIMIT.\n",
      "\n",
      "Increase the number of iterations (max_iter) or scale the data as shown in:\n",
      "    https://scikit-learn.org/stable/modules/preprocessing.html\n",
      "Please also refer to the documentation for alternative solver options:\n",
      "    https://scikit-learn.org/stable/modules/linear_model.html#logistic-regression\n",
      "  n_iter_i = _check_optimize_result(\n",
      "/Users/piotr/Praca/Nauka/Publikacje/Hierarchical Text Classification/Software/SNNTorch_classifer/venv/lib/python3.8/site-packages/sklearn/linear_model/_logistic.py:814: ConvergenceWarning: lbfgs failed to converge (status=1):\n",
      "STOP: TOTAL NO. of ITERATIONS REACHED LIMIT.\n",
      "\n",
      "Increase the number of iterations (max_iter) or scale the data as shown in:\n",
      "    https://scikit-learn.org/stable/modules/preprocessing.html\n",
      "Please also refer to the documentation for alternative solver options:\n",
      "    https://scikit-learn.org/stable/modules/linear_model.html#logistic-regression\n",
      "  n_iter_i = _check_optimize_result(\n"
     ]
    },
    {
     "name": "stdout",
     "output_type": "stream",
     "text": [
      "RESULT: 0.4032258064516129\n"
     ]
    }
   ],
   "source": [
    "from sklearn.linear_model import LogisticRegressionCV\n",
    "\n",
    "for data_module in [ng_data_module, ib_data_module, b_data_module]:\n",
    "    X = data_module.train_data\n",
    "    y = data_module.train_classes\n",
    "    lrcv = LogisticRegressionCV()\n",
    "    lrcv.fit(X, y)\n",
    "    lrcv_pred = lrcv.predict(data_module.test_data)\n",
    "    print(\"RESULT:\", accuracy_score(data_module.test_classes, lrcv_pred))"
   ],
   "metadata": {
    "collapsed": false,
    "pycharm": {
     "name": "#%%\n"
    }
   }
  }
 ],
 "metadata": {
  "kernelspec": {
   "display_name": "Python 3",
   "language": "python",
   "name": "python3"
  },
  "language_info": {
   "codemirror_mode": {
    "name": "ipython",
    "version": 2
   },
   "file_extension": ".py",
   "mimetype": "text/x-python",
   "name": "python",
   "nbconvert_exporter": "python",
   "pygments_lexer": "ipython2",
   "version": "2.7.6"
  }
 },
 "nbformat": 4,
 "nbformat_minor": 0
}